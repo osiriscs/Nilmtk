{
 "cells": [
  {
   "cell_type": "code",
   "execution_count": null,
   "id": "47aa69f3",
   "metadata": {},
   "outputs": [],
   "source": [
    "import nilmtk\n",
    "from nilmtk import *\n",
    "from nilmtk import DataSet\n",
    "from nilmtk.utils import print_dict\n",
    "import matplotlib.pyplot as plt\n",
    "import numpy as np\n",
    "%matplotlib inline"
   ]
  },
  {
   "cell_type": "code",
   "execution_count": 2,
   "id": "2961c828",
   "metadata": {},
   "outputs": [],
   "source": [
    "redd = DataSet('C:/Users/osiri/Documents/Nilmtk_estadias/nilmtk/data/AMPds2.h5')"
   ]
  },
  {
   "cell_type": "code",
   "execution_count": 4,
   "id": "aed381be",
   "metadata": {},
   "outputs": [],
   "source": [
    "elec = redd.buildings[1].elec"
   ]
  },
  {
   "cell_type": "code",
   "execution_count": 5,
   "id": "4b1876f9",
   "metadata": {},
   "outputs": [
    {
     "data": {
      "text/plain": [
       "MeterGroup(meters=\n",
       "  ElecMeter(instance=1, building=1, dataset='AMPds', site_meter, appliances=[])\n",
       "  ElecMeter(instance=2, building=1, dataset='AMPds', appliances=[Appliance(type='light', instance=1)])\n",
       "  ElecMeter(instance=3, building=1, dataset='AMPds', appliances=[Appliance(type='light', instance=2)])\n",
       "  ElecMeter(instance=4, building=1, dataset='AMPds', appliances=[Appliance(type='light', instance=3)])\n",
       "  ElecMeter(instance=5, building=1, dataset='AMPds', appliances=[Appliance(type='unknown', instance=1)])\n",
       "  ElecMeter(instance=6, building=1, dataset='AMPds', appliances=[Appliance(type='unknown', instance=2)])\n",
       "  ElecMeter(instance=7, building=1, dataset='AMPds', appliances=[Appliance(type='sockets', instance=1)])\n",
       "  ElecMeter(instance=8, building=1, dataset='AMPds', appliances=[Appliance(type='unknown', instance=3)])\n",
       "  ElecMeter(instance=9, building=1, dataset='AMPds', appliances=[Appliance(type='unknown', instance=4)])\n",
       "  ElecMeter(instance=10, building=1, dataset='AMPds', appliances=[Appliance(type='unknown', instance=5)])\n",
       "  ElecMeter(instance=11, building=1, dataset='AMPds', appliances=[Appliance(type='fridge', instance=1)])\n",
       "  ElecMeter(instance=12, building=1, dataset='AMPds', appliances=[Appliance(type='unknown', instance=6)])\n",
       "  ElecMeter(instance=13, building=1, dataset='AMPds', appliances=[Appliance(type='unknown', instance=7)])\n",
       "  ElecMeter(instance=14, building=1, dataset='AMPds', appliances=[Appliance(type='heat pump', instance=1)])\n",
       "  ElecMeter(instance=15, building=1, dataset='AMPds', appliances=[Appliance(type='unknown', instance=8)])\n",
       "  ElecMeter(instance=16, building=1, dataset='AMPds', appliances=[Appliance(type='light', instance=4)])\n",
       "  ElecMeter(instance=17, building=1, dataset='AMPds', appliances=[Appliance(type='sockets', instance=2)])\n",
       "  ElecMeter(instance=18, building=1, dataset='AMPds', appliances=[Appliance(type='unknown', instance=9)])\n",
       "  ElecMeter(instance=19, building=1, dataset='AMPds', appliances=[Appliance(type='television', instance=1)])\n",
       "  ElecMeter(instance=20, building=1, dataset='AMPds', appliances=[Appliance(type='sockets', instance=3)])\n",
       "  ElecMeter(instance=21, building=1, dataset='AMPds', appliances=[Appliance(type='electric oven', instance=1)])\n",
       ")"
      ]
     },
     "execution_count": 5,
     "metadata": {},
     "output_type": "execute_result"
    }
   ],
   "source": [
    "elec"
   ]
  },
  {
   "cell_type": "code",
   "execution_count": 6,
   "id": "6429d1dd",
   "metadata": {},
   "outputs": [
    {
     "data": {
      "text/plain": [
       "[('voltage', 'apparent'),\n",
       " ('power factor', 'apparent'),\n",
       " ('current', 'apparent'),\n",
       " ('cumulative energy', 'reactive'),\n",
       " ('power', 'active'),\n",
       " ('power factor', 'real'),\n",
       " ('power', 'apparent'),\n",
       " ('frequency', 'apparent'),\n",
       " ('cumulative energy', 'active'),\n",
       " ('power', 'reactive'),\n",
       " ('cumulative energy', 'apparent')]"
      ]
     },
     "execution_count": 6,
     "metadata": {},
     "output_type": "execute_result"
    }
   ],
   "source": [
    "light = elec['light']\n",
    "light.available_columns()"
   ]
  },
  {
   "cell_type": "code",
   "execution_count": 7,
   "id": "0114324c",
   "metadata": {},
   "outputs": [
    {
     "ename": "AttributeError",
     "evalue": "'numpy.bytes_' object has no attribute 'get'",
     "output_type": "error",
     "traceback": [
      "\u001b[1;31m---------------------------------------------------------------------------\u001b[0m",
      "\u001b[1;31mAttributeError\u001b[0m                            Traceback (most recent call last)",
      "Input \u001b[1;32mIn [7]\u001b[0m, in \u001b[0;36m<cell line: 1>\u001b[1;34m()\u001b[0m\n\u001b[1;32m----> 1\u001b[0m series \u001b[38;5;241m=\u001b[39m \u001b[38;5;28;43mnext\u001b[39;49m\u001b[43m(\u001b[49m\u001b[43mlight\u001b[49m\u001b[38;5;241;43m.\u001b[39;49m\u001b[43mpower_series\u001b[49m\u001b[43m(\u001b[49m\u001b[43m)\u001b[49m\u001b[43m)\u001b[49m\n\u001b[0;32m      2\u001b[0m series\u001b[38;5;241m.\u001b[39mhead()\n",
      "File \u001b[1;32mc:\\users\\osiri\\anaconda3\\nilmtk\\nilmtk\\electric.py:626\u001b[0m, in \u001b[0;36mElectric.load_series\u001b[1;34m(self, **kwargs)\u001b[0m\n\u001b[0;32m    624\u001b[0m physical_quantity \u001b[38;5;241m=\u001b[39m kwargs[\u001b[38;5;124m'\u001b[39m\u001b[38;5;124mphysical_quantity\u001b[39m\u001b[38;5;124m'\u001b[39m]\n\u001b[0;32m    625\u001b[0m generator \u001b[38;5;241m=\u001b[39m \u001b[38;5;28mself\u001b[39m\u001b[38;5;241m.\u001b[39mload(\u001b[38;5;241m*\u001b[39m\u001b[38;5;241m*\u001b[39mkwargs)\n\u001b[1;32m--> 626\u001b[0m \u001b[38;5;28;01mfor\u001b[39;00m chunk \u001b[38;5;129;01min\u001b[39;00m generator:\n\u001b[0;32m    627\u001b[0m     \u001b[38;5;28;01mif\u001b[39;00m chunk\u001b[38;5;241m.\u001b[39mempty:\n\u001b[0;32m    628\u001b[0m         \u001b[38;5;28;01myield\u001b[39;00m chunk\n",
      "File \u001b[1;32mc:\\users\\osiri\\anaconda3\\nilmtk\\nilmtk\\datastore\\hdfdatastore.py:116\u001b[0m, in \u001b[0;36mHDFDataStore.load\u001b[1;34m(self, key, columns, sections, n_look_ahead_rows, chunksize, verbose)\u001b[0m\n\u001b[0;32m    113\u001b[0m     chunk_end_i \u001b[38;5;241m=\u001b[39m section_end_i\n\u001b[0;32m    114\u001b[0m chunk_end_i \u001b[38;5;241m+\u001b[39m\u001b[38;5;241m=\u001b[39m \u001b[38;5;241m1\u001b[39m\n\u001b[1;32m--> 116\u001b[0m data \u001b[38;5;241m=\u001b[39m \u001b[38;5;28;43mself\u001b[39;49m\u001b[38;5;241;43m.\u001b[39;49m\u001b[43mstore\u001b[49m\u001b[38;5;241;43m.\u001b[39;49m\u001b[43mselect\u001b[49m\u001b[43m(\u001b[49m\u001b[43mkey\u001b[49m\u001b[38;5;241;43m=\u001b[39;49m\u001b[43mkey\u001b[49m\u001b[43m,\u001b[49m\u001b[43m \u001b[49m\u001b[43mcolumns\u001b[49m\u001b[38;5;241;43m=\u001b[39;49m\u001b[43mcolumns\u001b[49m\u001b[43m,\u001b[49m\n\u001b[0;32m    117\u001b[0m \u001b[43m                         \u001b[49m\u001b[43mstart\u001b[49m\u001b[38;5;241;43m=\u001b[39;49m\u001b[43mchunk_start_i\u001b[49m\u001b[43m,\u001b[49m\u001b[43m \u001b[49m\u001b[43mstop\u001b[49m\u001b[38;5;241;43m=\u001b[39;49m\u001b[43mchunk_end_i\u001b[49m\u001b[43m)\u001b[49m\n\u001b[0;32m    119\u001b[0m \u001b[38;5;66;03m# if len(data) <= 2:\u001b[39;00m\n\u001b[0;32m    120\u001b[0m \u001b[38;5;66;03m#     yield pd.DataFrame()\u001b[39;00m\n\u001b[0;32m    121\u001b[0m \n\u001b[0;32m    122\u001b[0m \u001b[38;5;66;03m# Load look ahead if necessary\u001b[39;00m\n\u001b[0;32m    123\u001b[0m \u001b[38;5;28;01mif\u001b[39;00m n_look_ahead_rows \u001b[38;5;241m>\u001b[39m \u001b[38;5;241m0\u001b[39m:\n",
      "File \u001b[1;32m~\\anaconda3\\lib\\site-packages\\pandas\\io\\pytables.py:875\u001b[0m, in \u001b[0;36mHDFStore.select\u001b[1;34m(self, key, where, start, stop, columns, iterator, chunksize, auto_close)\u001b[0m\n\u001b[0;32m    861\u001b[0m \u001b[38;5;66;03m# create the iterator\u001b[39;00m\n\u001b[0;32m    862\u001b[0m it \u001b[38;5;241m=\u001b[39m TableIterator(\n\u001b[0;32m    863\u001b[0m     \u001b[38;5;28mself\u001b[39m,\n\u001b[0;32m    864\u001b[0m     s,\n\u001b[1;32m   (...)\u001b[0m\n\u001b[0;32m    872\u001b[0m     auto_close\u001b[38;5;241m=\u001b[39mauto_close,\n\u001b[0;32m    873\u001b[0m )\n\u001b[1;32m--> 875\u001b[0m \u001b[38;5;28;01mreturn\u001b[39;00m \u001b[43mit\u001b[49m\u001b[38;5;241;43m.\u001b[39;49m\u001b[43mget_result\u001b[49m\u001b[43m(\u001b[49m\u001b[43m)\u001b[49m\n",
      "File \u001b[1;32m~\\anaconda3\\lib\\site-packages\\pandas\\io\\pytables.py:1943\u001b[0m, in \u001b[0;36mTableIterator.get_result\u001b[1;34m(self, coordinates)\u001b[0m\n\u001b[0;32m   1940\u001b[0m     where \u001b[38;5;241m=\u001b[39m \u001b[38;5;28mself\u001b[39m\u001b[38;5;241m.\u001b[39mwhere\n\u001b[0;32m   1942\u001b[0m \u001b[38;5;66;03m# directly return the result\u001b[39;00m\n\u001b[1;32m-> 1943\u001b[0m results \u001b[38;5;241m=\u001b[39m \u001b[38;5;28;43mself\u001b[39;49m\u001b[38;5;241;43m.\u001b[39;49m\u001b[43mfunc\u001b[49m\u001b[43m(\u001b[49m\u001b[38;5;28;43mself\u001b[39;49m\u001b[38;5;241;43m.\u001b[39;49m\u001b[43mstart\u001b[49m\u001b[43m,\u001b[49m\u001b[43m \u001b[49m\u001b[38;5;28;43mself\u001b[39;49m\u001b[38;5;241;43m.\u001b[39;49m\u001b[43mstop\u001b[49m\u001b[43m,\u001b[49m\u001b[43m \u001b[49m\u001b[43mwhere\u001b[49m\u001b[43m)\u001b[49m\n\u001b[0;32m   1944\u001b[0m \u001b[38;5;28mself\u001b[39m\u001b[38;5;241m.\u001b[39mclose()\n\u001b[0;32m   1945\u001b[0m \u001b[38;5;28;01mreturn\u001b[39;00m results\n",
      "File \u001b[1;32m~\\anaconda3\\lib\\site-packages\\pandas\\io\\pytables.py:859\u001b[0m, in \u001b[0;36mHDFStore.select.<locals>.func\u001b[1;34m(_start, _stop, _where)\u001b[0m\n\u001b[0;32m    858\u001b[0m \u001b[38;5;28;01mdef\u001b[39;00m \u001b[38;5;21mfunc\u001b[39m(_start, _stop, _where):\n\u001b[1;32m--> 859\u001b[0m     \u001b[38;5;28;01mreturn\u001b[39;00m \u001b[43ms\u001b[49m\u001b[38;5;241;43m.\u001b[39;49m\u001b[43mread\u001b[49m\u001b[43m(\u001b[49m\u001b[43mstart\u001b[49m\u001b[38;5;241;43m=\u001b[39;49m\u001b[43m_start\u001b[49m\u001b[43m,\u001b[49m\u001b[43m \u001b[49m\u001b[43mstop\u001b[49m\u001b[38;5;241;43m=\u001b[39;49m\u001b[43m_stop\u001b[49m\u001b[43m,\u001b[49m\u001b[43m \u001b[49m\u001b[43mwhere\u001b[49m\u001b[38;5;241;43m=\u001b[39;49m\u001b[43m_where\u001b[49m\u001b[43m,\u001b[49m\u001b[43m \u001b[49m\u001b[43mcolumns\u001b[49m\u001b[38;5;241;43m=\u001b[39;49m\u001b[43mcolumns\u001b[49m\u001b[43m)\u001b[49m\n",
      "File \u001b[1;32m~\\anaconda3\\lib\\site-packages\\pandas\\io\\pytables.py:4537\u001b[0m, in \u001b[0;36mAppendableFrameTable.read\u001b[1;34m(self, where, columns, start, stop)\u001b[0m\n\u001b[0;32m   4534\u001b[0m \u001b[38;5;28;01mif\u001b[39;00m \u001b[38;5;129;01mnot\u001b[39;00m \u001b[38;5;28mself\u001b[39m\u001b[38;5;241m.\u001b[39minfer_axes():\n\u001b[0;32m   4535\u001b[0m     \u001b[38;5;28;01mreturn\u001b[39;00m \u001b[38;5;28;01mNone\u001b[39;00m\n\u001b[1;32m-> 4537\u001b[0m result \u001b[38;5;241m=\u001b[39m \u001b[38;5;28;43mself\u001b[39;49m\u001b[38;5;241;43m.\u001b[39;49m\u001b[43m_read_axes\u001b[49m\u001b[43m(\u001b[49m\u001b[43mwhere\u001b[49m\u001b[38;5;241;43m=\u001b[39;49m\u001b[43mwhere\u001b[49m\u001b[43m,\u001b[49m\u001b[43m \u001b[49m\u001b[43mstart\u001b[49m\u001b[38;5;241;43m=\u001b[39;49m\u001b[43mstart\u001b[49m\u001b[43m,\u001b[49m\u001b[43m \u001b[49m\u001b[43mstop\u001b[49m\u001b[38;5;241;43m=\u001b[39;49m\u001b[43mstop\u001b[49m\u001b[43m)\u001b[49m\n\u001b[0;32m   4539\u001b[0m info \u001b[38;5;241m=\u001b[39m (\n\u001b[0;32m   4540\u001b[0m     \u001b[38;5;28mself\u001b[39m\u001b[38;5;241m.\u001b[39minfo\u001b[38;5;241m.\u001b[39mget(\u001b[38;5;28mself\u001b[39m\u001b[38;5;241m.\u001b[39mnon_index_axes[\u001b[38;5;241m0\u001b[39m][\u001b[38;5;241m0\u001b[39m], {})\n\u001b[0;32m   4541\u001b[0m     \u001b[38;5;28;01mif\u001b[39;00m \u001b[38;5;28mlen\u001b[39m(\u001b[38;5;28mself\u001b[39m\u001b[38;5;241m.\u001b[39mnon_index_axes)\n\u001b[0;32m   4542\u001b[0m     \u001b[38;5;28;01melse\u001b[39;00m {}\n\u001b[0;32m   4543\u001b[0m )\n\u001b[0;32m   4545\u001b[0m inds \u001b[38;5;241m=\u001b[39m [i \u001b[38;5;28;01mfor\u001b[39;00m i, ax \u001b[38;5;129;01min\u001b[39;00m \u001b[38;5;28menumerate\u001b[39m(\u001b[38;5;28mself\u001b[39m\u001b[38;5;241m.\u001b[39maxes) \u001b[38;5;28;01mif\u001b[39;00m ax \u001b[38;5;129;01mis\u001b[39;00m \u001b[38;5;28mself\u001b[39m\u001b[38;5;241m.\u001b[39mindex_axes[\u001b[38;5;241m0\u001b[39m]]\n",
      "File \u001b[1;32m~\\anaconda3\\lib\\site-packages\\pandas\\io\\pytables.py:3734\u001b[0m, in \u001b[0;36mTable._read_axes\u001b[1;34m(self, where, start, stop)\u001b[0m\n\u001b[0;32m   3732\u001b[0m \u001b[38;5;66;03m# convert the data\u001b[39;00m\n\u001b[0;32m   3733\u001b[0m \u001b[38;5;28;01mfor\u001b[39;00m a \u001b[38;5;129;01min\u001b[39;00m \u001b[38;5;28mself\u001b[39m\u001b[38;5;241m.\u001b[39maxes:\n\u001b[1;32m-> 3734\u001b[0m     \u001b[43ma\u001b[49m\u001b[38;5;241;43m.\u001b[39;49m\u001b[43mset_info\u001b[49m\u001b[43m(\u001b[49m\u001b[38;5;28;43mself\u001b[39;49m\u001b[38;5;241;43m.\u001b[39;49m\u001b[43minfo\u001b[49m\u001b[43m)\u001b[49m\n\u001b[0;32m   3735\u001b[0m     res \u001b[38;5;241m=\u001b[39m a\u001b[38;5;241m.\u001b[39mconvert(\n\u001b[0;32m   3736\u001b[0m         values,\n\u001b[0;32m   3737\u001b[0m         nan_rep\u001b[38;5;241m=\u001b[39m\u001b[38;5;28mself\u001b[39m\u001b[38;5;241m.\u001b[39mnan_rep,\n\u001b[0;32m   3738\u001b[0m         encoding\u001b[38;5;241m=\u001b[39m\u001b[38;5;28mself\u001b[39m\u001b[38;5;241m.\u001b[39mencoding,\n\u001b[0;32m   3739\u001b[0m         errors\u001b[38;5;241m=\u001b[39m\u001b[38;5;28mself\u001b[39m\u001b[38;5;241m.\u001b[39merrors,\n\u001b[0;32m   3740\u001b[0m     )\n\u001b[0;32m   3741\u001b[0m     results\u001b[38;5;241m.\u001b[39mappend(res)\n",
      "File \u001b[1;32m~\\anaconda3\\lib\\site-packages\\pandas\\io\\pytables.py:2212\u001b[0m, in \u001b[0;36mIndexCol.set_info\u001b[1;34m(self, info)\u001b[0m\n\u001b[0;32m   2210\u001b[0m \u001b[38;5;28;01mdef\u001b[39;00m \u001b[38;5;21mset_info\u001b[39m(\u001b[38;5;28mself\u001b[39m, info):\n\u001b[0;32m   2211\u001b[0m     \u001b[38;5;124;03m\"\"\"set my state from the passed info\"\"\"\u001b[39;00m\n\u001b[1;32m-> 2212\u001b[0m     idx \u001b[38;5;241m=\u001b[39m \u001b[43minfo\u001b[49m\u001b[38;5;241;43m.\u001b[39;49m\u001b[43mget\u001b[49m(\u001b[38;5;28mself\u001b[39m\u001b[38;5;241m.\u001b[39mname)\n\u001b[0;32m   2213\u001b[0m     \u001b[38;5;28;01mif\u001b[39;00m idx \u001b[38;5;129;01mis\u001b[39;00m \u001b[38;5;129;01mnot\u001b[39;00m \u001b[38;5;28;01mNone\u001b[39;00m:\n\u001b[0;32m   2214\u001b[0m         \u001b[38;5;28mself\u001b[39m\u001b[38;5;241m.\u001b[39m\u001b[38;5;18m__dict__\u001b[39m\u001b[38;5;241m.\u001b[39mupdate(idx)\n",
      "\u001b[1;31mAttributeError\u001b[0m: 'numpy.bytes_' object has no attribute 'get'"
     ]
    }
   ],
   "source": [
    "series = next(light.power_series())\n",
    "series.head()"
   ]
  },
  {
   "cell_type": "code",
   "execution_count": null,
   "id": "45811a03",
   "metadata": {},
   "outputs": [],
   "source": []
  }
 ],
 "metadata": {
  "kernelspec": {
   "display_name": "Python 3 (ipykernel)",
   "language": "python",
   "name": "python3"
  },
  "language_info": {
   "codemirror_mode": {
    "name": "ipython",
    "version": 3
   },
   "file_extension": ".py",
   "mimetype": "text/x-python",
   "name": "python",
   "nbconvert_exporter": "python",
   "pygments_lexer": "ipython3",
   "version": "3.10.6"
  }
 },
 "nbformat": 4,
 "nbformat_minor": 5
}
